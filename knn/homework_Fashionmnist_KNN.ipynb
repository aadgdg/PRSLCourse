{
 "cells": [
  {
   "cell_type": "markdown",
   "metadata": {},
   "source": [
    "## 作业：运用最近邻分类器对Fashion MNIST数据进行分类\n",
    "\n",
    "   -  由于数据量大，我们仅对Fashion MNIST的测试集进行分类实验\n",
    "   -  Fashion MNIST测试集： 数据包含十类，每类1000个样本，每个样本为28 * 28 的图像\n",
    "   -  实验要求：对数据集划分训练集和验证集\n",
    "   -  用训练集使用sklearn的KNeighborsClassifier训练的到分类器\n",
    "   -  用得到的分类器对验证集的数据进行分类，得到准确率"
   ]
  },
  {
   "cell_type": "code",
   "execution_count": 113,
   "metadata": {},
   "outputs": [
    {
     "data": {
      "text/plain": "<Figure size 432x288 with 1 Axes>",
      "image/png": "[encoded data removed]"
     },
     "metadata": {
      "needs_background": "light"
     },
     "output_type": "display_data"
    },
    {
     "data": {
      "text/plain": "((10000, 784), (10000,))"
     },
     "execution_count": 113,
     "metadata": {},
     "output_type": "execute_result"
    }
   ],
   "source": [
    "import numpy as np\n",
    "from sklearn.model_selection import train_test_split\n",
    "from tensorflow import keras\n",
    "import matplotlib.pyplot as plt\n",
    "\n",
    "img_rows, img_cols = 28, 28\n",
    "num_classes = 10\n",
    "\n",
    "def prep_data(raw):\n",
    "    y = raw[:, 0]\n",
    "    \n",
    "    x = raw[:,1:]\n",
    "    num_images = raw.shape[0]\n",
    "    out_x = x.reshape(num_images, img_rows, img_cols, 1)\n",
    "    out_x = out_x / 255\n",
    "    return out_x, y\n",
    "\n",
    "fashion_file = f\"C:/Users/aadgdg/Desktop/fashion-mnist_test.csv\"\n",
    "fashion_data = np.loadtxt(fashion_file, skiprows=1, delimiter=',')\n",
    "x, y = prep_data(fashion_data)\n",
    "im = x[0]\n",
    "plt.imshow((im))\n",
    "plt.show()\n",
    "# 数据与标签 \n",
    "Data = np.squeeze(x).reshape(10000,28*28)\n",
    "label = y\n",
    "Data.shape, label.shape"
   ]
  },
  {
   "cell_type": "code",
   "execution_count": 114,
   "metadata": {},
   "outputs": [
    {
     "name": "stdout",
     "output_type": "stream",
     "text": [
      "准确度: 83.7 %\n",
      "              precision    recall  f1-score   support\n",
      "\n",
      "         0.0       0.79      0.83      0.81       109\n",
      "         1.0       0.97      0.95      0.96       107\n",
      "         2.0       0.71      0.84      0.77        93\n",
      "         3.0       0.93      0.81      0.86       114\n",
      "         4.0       0.74      0.71      0.73        84\n",
      "         5.0       1.00      0.74      0.85        90\n",
      "         6.0       0.63      0.68      0.65       102\n",
      "         7.0       0.78      0.96      0.86       100\n",
      "         8.0       0.98      0.89      0.93       108\n",
      "         9.0       0.92      0.92      0.92        93\n",
      "\n",
      "    accuracy                           0.84      1000\n",
      "   macro avg       0.85      0.83      0.84      1000\n",
      "weighted avg       0.85      0.84      0.84      1000\n",
      "\n"
     ]
    }
   ],
   "source": [
    "# your code is here\n",
    "from sklearn.neighbors import KNeighborsClassifier\n",
    "from sklearn.metrics import classification_report\n",
    "x_train, x_test, y_train, y_test=train_test_split(Data, label, train_size=0.9, random_state=37)\n",
    "n_neighbors = 5\n",
    "knn_classifier = KNeighborsClassifier(n_neighbors=n_neighbors)\n",
    "knn_classifier.fit(x_train, y_train)\n",
    "y_predict = knn_classifier.predict(x_test)\n",
    "accuracy = sum(y_predict==y_test)/len(y_test)*100\n",
    "print('准确度:', accuracy, \"%\")\n",
    "print(classification_report(y_test, y_predict))"
   ]
  }
 ],
 "metadata": {
  "kernelspec": {
   "display_name": "Python 3 (ipykernel)",
   "language": "python",
   "name": "python3"
  },
  "language_info": {
   "codemirror_mode": {
    "name": "ipython",
    "version": 3
   },
   "file_extension": ".py",
   "mimetype": "text/x-python",
   "name": "python",
   "nbconvert_exporter": "python",
   "pygments_lexer": "ipython3",
   "version": "3.9.7"
  },
  "toc": {
   "base_numbering": 1,
   "nav_menu": {},
   "number_sections": true,
   "sideBar": true,
   "skip_h1_title": false,
   "title_cell": "Table of Contents",
   "title_sidebar": "Contents",
   "toc_cell": false,
   "toc_position": {},
   "toc_section_display": true,
   "toc_window_display": false
  }
 },
 "nbformat": 4,
 "nbformat_minor": 2
}